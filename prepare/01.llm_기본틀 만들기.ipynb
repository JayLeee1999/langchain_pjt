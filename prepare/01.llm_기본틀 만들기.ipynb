{
 "cells": [
  {
   "cell_type": "markdown",
   "id": "26edf611",
   "metadata": {},
   "source": [
    "# llm 기본틀 만들기\n",
    "- open ai key 로딩, chatopenai() 객체 생성"
   ]
  },
  {
   "cell_type": "code",
   "execution_count": 3,
   "id": "e82ed37a",
   "metadata": {},
   "outputs": [],
   "source": [
    "from dotenv import load_dotenv\n",
    "import os\n",
    "from langchain_openai import ChatOpenAI\n",
    "\n",
    "load_dotenv()\n",
    "\n",
    "api_key = os.getenv('OPENAI_API_KEY')\n",
    "# print(api_key)"
   ]
  },
  {
   "cell_type": "markdown",
   "id": "ece8ca7d",
   "metadata": {},
   "source": [
    "# 모델 객체 생성"
   ]
  },
  {
   "cell_type": "code",
   "execution_count": 4,
   "id": "2339d3ea",
   "metadata": {},
   "outputs": [],
   "source": [
    "# gpt model 객체 생성\n",
    "# llm = ChatOpenAI(model=\"gpt-4o\", api_key=api_key)\n",
    "llm = ChatOpenAI(model=\"gpt-3.5-turbo-0125\", api_key=api_key)"
   ]
  },
  {
   "cell_type": "code",
   "execution_count": 5,
   "id": "552359e7",
   "metadata": {},
   "outputs": [],
   "source": [
    "from langchain_core.prompts import ChatPromptTemplate\n",
    "from langchain_core.output_parsers import StrOutputParser"
   ]
  },
  {
   "cell_type": "markdown",
   "id": "6459eaf1",
   "metadata": {},
   "source": [
    "# 시스템 프롬프트 작성\n",
    "- https://github.com/f/awesome-chatgpt-prompts 검색 : financial\n",
    "- Want assistance provided by qualified individuals enabled with experience on understanding charts using technical analysis tools while interpreting macroeconomic environment prevailing across world consequently assisting customers acquire long term advantages requires clear verdicts therefore seeking same through informed predictions written down precisely! First statement contains following content- \"Can you tell us what future stock market looks like based upon current conditions ?\"."
   ]
  },
  {
   "cell_type": "code",
   "execution_count": 6,
   "id": "552eea75",
   "metadata": {},
   "outputs": [],
   "source": [
    "system_prompt = \"\"\"\n",
    "Want assistance provided by qualified individuals enabled with experience on understanding charts using technical analysis tools while interpreting macroeconomic environment prevailing across world consequently assisting customers acquire long term advantages requires clear verdicts therefore seeking same through informed predictions written down precisely! First statement contains following content- “Can you tell us what future stock market looks like based upon current conditions ?\".\n",
    "\"\"\"\n",
    "user_prompt = \"{company}에 주식을 투자해도 될까요? 마크다운 형식의 투자보고서를 한글로 작성해 주세요.\""
   ]
  },
  {
   "cell_type": "markdown",
   "id": "3648c1a9",
   "metadata": {},
   "source": [
    "# 프롬프트 객체생성"
   ]
  },
  {
   "cell_type": "code",
   "execution_count": 7,
   "id": "75d6bf02",
   "metadata": {},
   "outputs": [
    {
     "data": {
      "text/plain": [
       "ChatPromptTemplate(input_variables=['company'], input_types={}, partial_variables={}, messages=[SystemMessagePromptTemplate(prompt=PromptTemplate(input_variables=[], input_types={}, partial_variables={}, template='\\nWant assistance provided by qualified individuals enabled with experience on understanding charts using technical analysis tools while interpreting macroeconomic environment prevailing across world consequently assisting customers acquire long term advantages requires clear verdicts therefore seeking same through informed predictions written down precisely! First statement contains following content- “Can you tell us what future stock market looks like based upon current conditions ?\".\\n'), additional_kwargs={}), HumanMessagePromptTemplate(prompt=PromptTemplate(input_variables=['company'], input_types={}, partial_variables={}, template='{company}에 주식을 투자해도 될까요? 마크다운 형식의 투자보고서를 한글로 작성해 주세요.'), additional_kwargs={})])"
      ]
     },
     "execution_count": 7,
     "metadata": {},
     "output_type": "execute_result"
    }
   ],
   "source": [
    "prompt = ChatPromptTemplate.from_messages([\n",
    "    (\"system\", system_prompt),\n",
    "    (\"user\", user_prompt)\n",
    "])\n",
    "prompt"
   ]
  },
  {
   "cell_type": "markdown",
   "id": "77bff912",
   "metadata": {},
   "source": [
    "# output 파서 객체 생성"
   ]
  },
  {
   "cell_type": "code",
   "execution_count": 8,
   "id": "75e4598f",
   "metadata": {},
   "outputs": [
    {
     "data": {
      "text/plain": [
       "StrOutputParser()"
      ]
     },
     "execution_count": 8,
     "metadata": {},
     "output_type": "execute_result"
    }
   ],
   "source": [
    "output_parser = StrOutputParser()\n",
    "output_parser"
   ]
  },
  {
   "cell_type": "markdown",
   "id": "3914abfd",
   "metadata": {},
   "source": [
    "# lcel로 llm 요청 및 응답받기\n",
    "- chain 구성: LCEL(LangChain Expression Language)"
   ]
  },
  {
   "cell_type": "code",
   "execution_count": null,
   "id": "9c491d30",
   "metadata": {},
   "outputs": [],
   "source": [
    "chain = prompt | llm | output_parser\n",
    "\n",
    "# 회사 이름\n",
    "company = \"MicroSoft\"\n",
    "response = chain.invoke({\"company\":company})\n",
    "# invoke 요청"
   ]
  },
  {
   "cell_type": "code",
   "execution_count": 10,
   "id": "334e5616",
   "metadata": {},
   "outputs": [
    {
     "name": "stdout",
     "output_type": "stream",
     "text": [
      "## Microsoft 주식 투자 보고서\n",
      "\n",
      "### 현재 상황 분석\n",
      "현재 시장 조건 및 기술 분석에 따르면 Microsoft 주식에 대한 투자 가능성이 높은 것으로 판단됩니다. 최근 기업의 수익성과 성장이 지속적으로 강화되고 있으며, 기술 산업의 선두주자로서 안정적인 실적을 보여주고 있습니다.\n",
      "\n",
      "### 기술 분석\n",
      "기술적 분석은 현재 Microsoft 주식이 상승 흐름을 지속하고 있으며, 이동평균선 및 MACD와 같은 지표들이 긍정적인 신호를 보여주고 있습니다. 주가가 향후 상승할 가능성이 높은 모멘텀을 가지고 있습니다.\n",
      "\n",
      "### 매크로경제 환경\n",
      "세계적인 매크로경제 환경에서는 기술 기업들이 디지털화 및 혁신에 대한 수요가 계속해서 늘어나고 있습니다. Microsoft는 클라우드 컴퓨팅 및 인공지능 분야에서 강점을 가지고 있어 향후 성장 가능성이 높다고 판단됩니다.\n",
      "\n",
      "### 투자 결론\n",
      "따라서, 현재 상황에서 Microsoft 주식에 대한 투자는 안정적이고 장기적인 수익을 기대할 수 있는 좋은 기회로 평가됩니다. 향후 긍정적인 트렌드가 지속될 것으로 예상되므로 투자자들은 중장기적인 관점에서 이익을 얻을 수 있을 것으로 판단됩니다.\n"
     ]
    }
   ],
   "source": [
    "print(response)"
   ]
  }
 ],
 "metadata": {
  "kernelspec": {
   "display_name": "lc_env",
   "language": "python",
   "name": "python3"
  },
  "language_info": {
   "codemirror_mode": {
    "name": "ipython",
    "version": 3
   },
   "file_extension": ".py",
   "mimetype": "text/x-python",
   "name": "python",
   "nbconvert_exporter": "python",
   "pygments_lexer": "ipython3",
   "version": "3.11.13"
  }
 },
 "nbformat": 4,
 "nbformat_minor": 5
}
