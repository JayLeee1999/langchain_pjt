{
 "cells": [
  {
   "cell_type": "markdown",
   "id": "26edf611",
   "metadata": {},
   "source": [
    "# llm 기본틀 만들기\n",
    "- open ai key 로딩, chatopenai() 객체 생성"
   ]
  },
  {
   "cell_type": "code",
   "execution_count": 29,
   "id": "e82ed37a",
   "metadata": {},
   "outputs": [],
   "source": [
    "from dotenv import load_dotenv\n",
    "import os\n",
    "from langchain_openai import ChatOpenAI\n",
    "\n",
    "load_dotenv()\n",
    "\n",
    "api_key = os.getenv('OPENAI_API_KEY')\n",
    "# print(api_key)"
   ]
  },
  {
   "cell_type": "markdown",
   "id": "ece8ca7d",
   "metadata": {},
   "source": [
    "# 모델 객체 생성"
   ]
  },
  {
   "cell_type": "code",
   "execution_count": 30,
   "id": "2339d3ea",
   "metadata": {},
   "outputs": [],
   "source": [
    "# gpt model 객체 생성\n",
    "# llm = ChatOpenAI(model=\"gpt-4o\", api_key=api_key)\n",
    "llm = ChatOpenAI(model=\"gpt-3.5-turbo-0125\", api_key=api_key)"
   ]
  },
  {
   "cell_type": "code",
   "execution_count": 31,
   "id": "552359e7",
   "metadata": {},
   "outputs": [],
   "source": [
    "from langchain_core.prompts import ChatPromptTemplate\n",
    "from langchain_core.output_parsers import StrOutputParser"
   ]
  },
  {
   "cell_type": "markdown",
   "id": "6459eaf1",
   "metadata": {},
   "source": [
    "# 시스템 프롬프트 작성\n",
    "- https://github.com/f/awesome-chatgpt-prompts 검색 : financial\n",
    "- Want assistance provided by qualified individuals enabled with experience on understanding charts using technical analysis tools while interpreting macroeconomic environment prevailing across world consequently assisting customers acquire long term advantages requires clear verdicts therefore seeking same through informed predictions written down precisely! First statement contains following content- \"Can you tell us what future stock market looks like based upon current conditions ?\"."
   ]
  },
  {
   "cell_type": "code",
   "execution_count": 32,
   "id": "552eea75",
   "metadata": {},
   "outputs": [],
   "source": [
    "system_prompt = \"\"\"\n",
    "Want assistance provided by qualified individuals enabled with experience on understanding charts using technical analysis tools while interpreting macroeconomic environment prevailing across world consequently assisting customers acquire long term advantages requires clear verdicts therefore seeking same through informed predictions written down precisely! First statement contains following content- “Can you tell us what future stock market looks like based upon current conditions ?\".\n",
    "\"\"\"\n",
    "user_prompt = \"{company}에 주식을 투자해도 될까요? 마크다운 형식의 투자보고서를 한글로 작성해 주세요.\""
   ]
  },
  {
   "cell_type": "markdown",
   "id": "3648c1a9",
   "metadata": {},
   "source": [
    "# 프롬프트 객체생성"
   ]
  },
  {
   "cell_type": "code",
   "execution_count": 33,
   "id": "75d6bf02",
   "metadata": {},
   "outputs": [
    {
     "data": {
      "text/plain": [
       "ChatPromptTemplate(input_variables=['company'], input_types={}, partial_variables={}, messages=[SystemMessagePromptTemplate(prompt=PromptTemplate(input_variables=[], input_types={}, partial_variables={}, template='\\nWant assistance provided by qualified individuals enabled with experience on understanding charts using technical analysis tools while interpreting macroeconomic environment prevailing across world consequently assisting customers acquire long term advantages requires clear verdicts therefore seeking same through informed predictions written down precisely! First statement contains following content- “Can you tell us what future stock market looks like based upon current conditions ?\".\\n'), additional_kwargs={}), HumanMessagePromptTemplate(prompt=PromptTemplate(input_variables=['company'], input_types={}, partial_variables={}, template='{company}에 주식을 투자해도 될까요? 마크다운 형식의 투자보고서를 한글로 작성해 주세요.'), additional_kwargs={})])"
      ]
     },
     "execution_count": 33,
     "metadata": {},
     "output_type": "execute_result"
    }
   ],
   "source": [
    "prompt = ChatPromptTemplate.from_messages([\n",
    "    (\"system\", system_prompt),\n",
    "    (\"user\", user_prompt)\n",
    "])\n",
    "prompt"
   ]
  },
  {
   "cell_type": "markdown",
   "id": "77bff912",
   "metadata": {},
   "source": [
    "# output 파서 객체 생성"
   ]
  },
  {
   "cell_type": "code",
   "execution_count": 34,
   "id": "75e4598f",
   "metadata": {},
   "outputs": [
    {
     "data": {
      "text/plain": [
       "StrOutputParser()"
      ]
     },
     "execution_count": 34,
     "metadata": {},
     "output_type": "execute_result"
    }
   ],
   "source": [
    "output_parser = StrOutputParser()\n",
    "output_parser"
   ]
  },
  {
   "cell_type": "markdown",
   "id": "3914abfd",
   "metadata": {},
   "source": [
    "# lcel로 llm 요청 및 응답받기\n",
    "- chain 구성: LCEL(LangChain Expression Language)"
   ]
  },
  {
   "cell_type": "code",
   "execution_count": 35,
   "id": "7f4c832b",
   "metadata": {},
   "outputs": [],
   "source": [
    "# from stock_info import Stock 인식이 안될 경우 아래 코드 실행\n",
    "import sys\n",
    "import os\n",
    "\n",
    "# 상위 디렉터리(LANGCHAIN_PJT)를 경로에 추가\n",
    "sys.path.append(os.path.abspath(\"..\"))"
   ]
  },
  {
   "cell_type": "code",
   "execution_count": 36,
   "id": "0ea16317",
   "metadata": {},
   "outputs": [
    {
     "data": {
      "text/plain": [
       "<stock_info.Stock at 0x1d8291f3410>"
      ]
     },
     "execution_count": 36,
     "metadata": {},
     "output_type": "execute_result"
    }
   ],
   "source": [
    "from stock_info import Stock\n",
    "\n",
    "company = \"MicroSoft\"\n",
    "symbol = 'MSFT'\n",
    "\n",
    "stock = Stock(symbol)\n",
    "stock"
   ]
  },
  {
   "cell_type": "code",
   "execution_count": 37,
   "id": "9c491d30",
   "metadata": {},
   "outputs": [],
   "source": [
    "chain = prompt | llm | output_parser\n",
    "\n",
    "# 회사 이름\n",
    "company = \"MicroSoft\"\n",
    "response = chain.invoke({\"company\":company})\n",
    "# invoke 요청"
   ]
  },
  {
   "cell_type": "code",
   "execution_count": 38,
   "id": "334e5616",
   "metadata": {},
   "outputs": [
    {
     "name": "stdout",
     "output_type": "stream",
     "text": [
      "### MicroSoft 주식에 대한 투자 보고서\n",
      "\n",
      "#### 기업 개요:\n",
      "MicroSoft (MSFT)는 소프트웨어 및 기술 업계에서 선도적인 기업으로, 전 세계적으로 기술 제품 및 서비스를 제공하고 있습니다.\n",
      "\n",
      "#### 재무상태:\n",
      "- MicroSoft의 수익은 꾸준히 성장하여 주주에게 수익을 제공할 것으로 전망됩니다.\n",
      "- 기업의 이익률은 안정적이며, 재무 건강 상태가 강력합니다.\n",
      "\n",
      "#### 주가 분석:\n",
      "- MicroSoft 주식은 과거 몇 년간 꾸준한 상승을 보였으며, 기술 분야에서의 선도적 입지를 유지하고 있습니다.\n",
      "- 기술 분야의 성장과 함께 MicroSoft 주식의 가치 상승이 기대됩니다.\n",
      "\n",
      "#### 투자 결론:\n",
      "현재의 경제적 환경 및 기업의 재무 건강 상태를 고려할 때, MicroSoft 주식에 대한 투자는 장기적인 관점에서 유망해 보입니다. 그러나 투자는 시장의 변동성을 감안해야 하며, 투자 전문가와 상담하시는 것이 좋습니다.\n",
      "\n",
      "이 보고서는 일반적인 정보 제공을 목적으로 하며, 투자 결정을 내리실 때 개별적 상황을 고려하고 전문가의 조언을 얻으시는 것이 중요합니다.\n"
     ]
    }
   ],
   "source": [
    "print(response)"
   ]
  }
 ],
 "metadata": {
  "kernelspec": {
   "display_name": "lc_env",
   "language": "python",
   "name": "python3"
  },
  "language_info": {
   "codemirror_mode": {
    "name": "ipython",
    "version": 3
   },
   "file_extension": ".py",
   "mimetype": "text/x-python",
   "name": "python",
   "nbconvert_exporter": "python",
   "pygments_lexer": "ipython3",
   "version": "3.11.13"
  }
 },
 "nbformat": 4,
 "nbformat_minor": 5
}
