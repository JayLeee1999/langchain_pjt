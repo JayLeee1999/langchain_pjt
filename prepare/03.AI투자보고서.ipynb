{
 "cells": [
  {
   "cell_type": "markdown",
   "id": "26edf611",
   "metadata": {},
   "source": [
    "# llm 기본틀 만들기\n",
    "- open ai key 로딩, chatopenai() 객체 생성"
   ]
  },
  {
   "cell_type": "code",
   "execution_count": 18,
   "id": "e82ed37a",
   "metadata": {},
   "outputs": [],
   "source": [
    "from dotenv import load_dotenv\n",
    "import os\n",
    "from langchain_openai import ChatOpenAI\n",
    "\n",
    "load_dotenv()\n",
    "\n",
    "api_key = os.getenv('OPENAI_API_KEY')\n",
    "# print(api_key)"
   ]
  },
  {
   "cell_type": "markdown",
   "id": "ece8ca7d",
   "metadata": {},
   "source": [
    "# 모델 객체 생성"
   ]
  },
  {
   "cell_type": "code",
   "execution_count": 19,
   "id": "2339d3ea",
   "metadata": {},
   "outputs": [],
   "source": [
    "# gpt model 객체 생성\n",
    "# llm = ChatOpenAI(model=\"gpt-4o\", api_key=api_key)\n",
    "llm = ChatOpenAI(model=\"gpt-3.5-turbo-0125\", api_key=api_key)"
   ]
  },
  {
   "cell_type": "code",
   "execution_count": 20,
   "id": "552359e7",
   "metadata": {},
   "outputs": [],
   "source": [
    "from langchain_core.prompts import ChatPromptTemplate\n",
    "from langchain_core.output_parsers import StrOutputParser"
   ]
  },
  {
   "cell_type": "markdown",
   "id": "6459eaf1",
   "metadata": {},
   "source": [
    "# 시스템 프롬프트 작성\n",
    "- https://github.com/f/awesome-chatgpt-prompts 검색 : financial\n",
    "- Want assistance provided by qualified individuals enabled with experience on understanding charts using technical analysis tools while interpreting macroeconomic environment prevailing across world consequently assisting customers acquire long term advantages requires clear verdicts therefore seeking same through informed predictions written down precisely! First statement contains following content- \"Can you tell us what future stock market looks like based upon current conditions ?\"."
   ]
  },
  {
   "cell_type": "code",
   "execution_count": 21,
   "id": "552eea75",
   "metadata": {},
   "outputs": [],
   "source": [
    "system_prompt = \"\"\"\n",
    "    Want assistance provided by qualified individuals enabled with experience on understanding charts using technical analysis tools while interpreting macroeconomic environment prevailing across world consequently assisting customers acquire long term advantages requires clear verdicts therefore seeking same through informed predictions written down precisely! First statement contains following content- \"Can you tell us what future stock market looks like based upon current conditions ?\".\n",
    " \"\"\"\n",
    "user_prompt = \"\"\"\n",
    "    {company}에 주식을 투자해도 될까요? 마크다운 형식의 투자보고서를 한글로 작성해 주세요.\n",
    "    야래의 기본 정보, 재무제표를 참고해 마크다운 형식의 투자 보고서를 한글로 작성해 주세요.\n",
    "\n",
    "    기본정보:\n",
    "    {basic_info}\n",
    "\n",
    "    재무제표:\n",
    "    {financial_statement}\n",
    "\"\"\"\n"
   ]
  },
  {
   "cell_type": "markdown",
   "id": "3648c1a9",
   "metadata": {},
   "source": [
    "# 프롬프트 객체생성"
   ]
  },
  {
   "cell_type": "code",
   "execution_count": 22,
   "id": "75d6bf02",
   "metadata": {},
   "outputs": [
    {
     "data": {
      "text/plain": [
       "ChatPromptTemplate(input_variables=['basic_info', 'company', 'financial_statement'], input_types={}, partial_variables={}, messages=[SystemMessagePromptTemplate(prompt=PromptTemplate(input_variables=[], input_types={}, partial_variables={}, template='\\n    Want assistance provided by qualified individuals enabled with experience on understanding charts using technical analysis tools while interpreting macroeconomic environment prevailing across world consequently assisting customers acquire long term advantages requires clear verdicts therefore seeking same through informed predictions written down precisely! First statement contains following content- \"Can you tell us what future stock market looks like based upon current conditions ?\".\\n '), additional_kwargs={}), HumanMessagePromptTemplate(prompt=PromptTemplate(input_variables=['basic_info', 'company', 'financial_statement'], input_types={}, partial_variables={}, template='\\n    {company}에 주식을 투자해도 될까요? 마크다운 형식의 투자보고서를 한글로 작성해 주세요.\\n    야래의 기본 정보, 재무제표를 참고해 마크다운 형식의 투자 보고서를 한글로 작성해 주세요.\\n\\n    기본정보:\\n    {basic_info}\\n\\n    재무제표:\\n    {financial_statement}\\n'), additional_kwargs={})])"
      ]
     },
     "execution_count": 22,
     "metadata": {},
     "output_type": "execute_result"
    }
   ],
   "source": [
    "prompt = ChatPromptTemplate.from_messages([\n",
    "    (\"system\", system_prompt),\n",
    "    (\"user\", user_prompt)\n",
    "])\n",
    "prompt"
   ]
  },
  {
   "cell_type": "markdown",
   "id": "77bff912",
   "metadata": {},
   "source": [
    "# output 파서 객체 생성"
   ]
  },
  {
   "cell_type": "code",
   "execution_count": 23,
   "id": "75e4598f",
   "metadata": {},
   "outputs": [
    {
     "data": {
      "text/plain": [
       "StrOutputParser()"
      ]
     },
     "execution_count": 23,
     "metadata": {},
     "output_type": "execute_result"
    }
   ],
   "source": [
    "output_parser = StrOutputParser()\n",
    "output_parser"
   ]
  },
  {
   "cell_type": "markdown",
   "id": "3914abfd",
   "metadata": {},
   "source": [
    "# lcel로 llm 요청 및 응답받기\n",
    "- chain 구성: LCEL(LangChain Expression Language)"
   ]
  },
  {
   "cell_type": "code",
   "execution_count": 24,
   "id": "7f4c832b",
   "metadata": {},
   "outputs": [],
   "source": [
    "# from stock_info import Stock 인식이 안될 경우 아래 코드 실행\n",
    "import sys\n",
    "import os\n",
    "\n",
    "# 상위 디렉터리(LANGCHAIN_PJT)를 경로에 추가\n",
    "sys.path.append(os.path.abspath(\"..\"))"
   ]
  },
  {
   "cell_type": "code",
   "execution_count": 25,
   "id": "0ea16317",
   "metadata": {},
   "outputs": [],
   "source": [
    "# from stock_info import Stock\n",
    "\n",
    "# company = \"MicroSoft\"\n",
    "# symbol = 'MSFT'\n",
    "\n",
    "# stock = Stock(symbol)\n",
    "# stock"
   ]
  },
  {
   "cell_type": "code",
   "execution_count": 26,
   "id": "9c491d30",
   "metadata": {},
   "outputs": [],
   "source": [
    "# chain = prompt | llm | output_parser\n",
    "\n",
    "# # 회사 이름\n",
    "# company = \"MicroSoft\"\n",
    "# response = chain.invoke({\"company\":company})\n",
    "# # invoke 요청"
   ]
  },
  {
   "cell_type": "code",
   "execution_count": 27,
   "id": "7616e11b",
   "metadata": {},
   "outputs": [],
   "source": [
    "from stock_info import Stock\n",
    "\n",
    "# chain 구성\n",
    "chain = prompt | llm | output_parser\n",
    "\n",
    "company = \"MicroSoft\"\n",
    "symbol = \"MSFT\"  # stock의 symbol 정보\n",
    "\n",
    "# stock 객체생성\n",
    "stock = Stock(symbol)\n",
    "\n",
    "response = chain.invoke({\n",
    "    # 회사이름\n",
    "    \"company\" : company,\n",
    "    # 기업 기본 정보 \n",
    "    \"basic_info\": stock.get_basic_info(),\n",
    "    # 기업 재무제표 \n",
    "    \"financial_statement\": stock.get_financial_statement()\n",
    "    })"
   ]
  },
  {
   "cell_type": "code",
   "execution_count": 28,
   "id": "334e5616",
   "metadata": {},
   "outputs": [
    {
     "name": "stdout",
     "output_type": "stream",
     "text": [
      "# Microsoft Corporation 투자 보고서\n",
      "\n",
      "## 기본 정보:\n",
      "- 회사명: Microsoft Corporation\n",
      "- 시가총액: 3,512,767,086,592\n",
      "- 산업: 소프트웨어 - 인프라스트럭처\n",
      "- 섹터: 기술\n",
      "- 정규직 종업원 수: 228,000명\n",
      "- 현재 주가: 472.62\n",
      "- 기업가치: 3,525,534,547,968\n",
      "\n",
      "## 재무제표:\n",
      "\n",
      "### 손익계산서\n",
      "| 항목              | 2024년               | 2023년               | 2022년               | 2021년               |\n",
      "|:-----------------|---------------------:|---------------------:|---------------------:|---------------------:|\n",
      "| 총 수익           | 2.45122e+11         | 2.11915e+11         | 1.9827e+11          | 1.68088e+11         |\n",
      "| 총 이익           | 1.71008e+11         | 1.46052e+11         | 1.3562e+11          | 1.15856e+11         |\n",
      "| 영업 이익         | 1.09433e+11         | 8.8523e+10          | 8.3383e+10          | 6.9916e+10          |\n",
      "| 순 이익           | 8.8136e+10          | 7.2361e+10          | 7.2738e+10          | 6.1271e+10          |\n",
      "\n",
      "### 대차대조표\n",
      "| 항목                                      | 2024년               | 2023년               | 2022년               | 2021년               |\n",
      "|:----------------------------------------|---------------------:|---------------------:|---------------------:|---------------------:|\n",
      "| 총 자산                                   | 5.12163e+11         | 4.11976e+11         | 3.6484e+11          | 3.33779e+11         |\n",
      "| 순부채 및 소수주의 이자 포함 부채        | 2.43686e+11         | 2.05753e+11         | 1.98298e+11         | 1.91791e+11         |\n",
      "| 자본금                                 | 2.68477e+11         | 2.06223e+11         | 1.66542e+11         | 1.41988e+11         |\n",
      "\n",
      "### 현금흐름표\n",
      "| 항목                    | 2024년               | 2023년               | 2022년               | 2021년               |\n",
      "|:----------------------|---------------------:|---------------------:|---------------------:|---------------------:|\n",
      "| 영업활동으로 인한 현금 흐름 | 1.18548e+11         | 8.7582e+10          | 8.9035e+10          | 7.674e+10           |\n",
      "| 투자활동으로 인한 현금 흐름 | -9.697e+10           | -2.268e+10          | -3.0311e+10         | -2.7577e+10         |\n",
      "| 재무활동으로 인한 현금 흐름 | -3.7757e+10          | -4.3935e+10         | -5.8876e+10         | -4.8486e+10         |\n",
      "\n",
      "**투자 결정에 있어서는 더 많은 리서치와 분석이 필요하며, 향후 주식 시장의 변동성과 미래의 기업 성장 전망에도 유의해야 합니다.**\n"
     ]
    }
   ],
   "source": [
    "print(response)"
   ]
  }
 ],
 "metadata": {
  "kernelspec": {
   "display_name": "lc_env",
   "language": "python",
   "name": "python3"
  },
  "language_info": {
   "codemirror_mode": {
    "name": "ipython",
    "version": 3
   },
   "file_extension": ".py",
   "mimetype": "text/x-python",
   "name": "python",
   "nbconvert_exporter": "python",
   "pygments_lexer": "ipython3",
   "version": "3.11.13"
  }
 },
 "nbformat": 4,
 "nbformat_minor": 5
}
